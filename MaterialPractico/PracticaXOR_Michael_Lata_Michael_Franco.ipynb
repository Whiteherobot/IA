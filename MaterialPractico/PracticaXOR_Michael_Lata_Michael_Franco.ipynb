{
 "cells": [
  {
   "cell_type": "markdown",
   "id": "26779b98-e468-4dbd-bd98-ce96eb0ec783",
   "metadata": {},
   "source": [
    "<div style=\"color:#3c4d5a; border-top: 7px solid #42A5F5; border-bottom: 7px solid #42A5F5; padding: 5px; text-align: center; text-transform: uppercase\"><h1>Implementación desde Cero de una Red Neuronal para la Función XOR de 4 Entradas con Capa de 8 Neuronas</h1> </div>"
   ]
  },
  {
   "cell_type": "markdown",
   "id": "902cf341-560c-4b28-97a0-4851cc84d873",
   "metadata": {},
   "source": [
    "# **Red Neuronal desde Cero para Función XOR de 4 Entradas con Capa de 8 Neuronas**\n",
    "\n",
    "**Desarrollado por:** Michael Israel Lata Zambrano , John Michael Franco Naulaguari  \n",
    "\n",
    "**Correo:** mlataz@est.ups.edu.ec, jfrancon@est.ups.edu.ec\n",
    "\n",
    "---\n",
    "\n",
    "## **Estructura de la práctica**\n",
    "\n",
    "1. **Introducción**\n",
    "   - Descripción del problema XOR.\n",
    "   - Objetivo: resolver el XOR de 4 bits con red neuronal desde cero usando NumPy.\n",
    "\n",
    "2. **Fundamentos teóricos**\n",
    "   - Red neuronal feedforward.\n",
    "   - Limitación del perceptrón simple frente al XOR.\n",
    "   - Arquitectura: 4-8-1 con activación sigmoide.\n",
    "\n",
    "3. **Dataset**\n",
    "   - Combinaciones binarias de 4 bits.\n",
    "   - Etiquetado XOR (1 si número de unos es impar, 0 si es par).\n",
    "\n",
    "4. **Implementación**\n",
    "   - Inicialización de pesos.\n",
    "   - Función sigmoide y su derivada.\n",
    "   - Entrenamiento: forward, backpropagation, actualización.\n",
    "\n",
    "5. **Evaluación**\n",
    "   - Predicciones y comparación con valores reales.\n",
    "   - Visualización en tabla de resultados.\n",
    "\n",
    "6. **Conclusiones**\n",
    "   - Resolución exitosa del problema XOR.\n",
    "   - Demostración de capacidad de redes multicapa.\n",
    "   - Sugerencias de mejora futura.\n",
    "\n",
    "7. **Referencias**\n",
    "   - Fuentes en formato APA.\n",
    "\n"
   ]
  },
  {
   "cell_type": "markdown",
   "id": "3181c564-5ad0-4643-b058-7c029ce5983b",
   "metadata": {},
   "source": [
    "### 1. **Introducción**\n",
    "La función XOR (o “exclusive OR”) es un problema clásico en el estudio de redes neuronales. A diferencia de funciones lógicas lineales como AND o OR, la función XOR **no es linealmente separable**, lo que significa que no puede resolverse con un perceptrón simple. Este problema fue históricamente importante porque demostró la necesidad de redes neuronales con **capas ocultas** para resolver problemas complejos.\n",
    "\n",
    "En este proyecto, se implementa una red neuronal **desde cero** utilizando únicamente la biblioteca NumPy. El objetivo es que la red aprenda a predecir correctamente la salida de una función XOR de **4 entradas**, utilizando una **capa de 8 neuronas** y una **neurona de salida**. Esta implementación incluye el proceso completo de entrenamiento: propagación hacia adelante, retropropagación del error y ajuste de pesos.\n"
   ]
  },
  {
   "cell_type": "markdown",
   "id": "4224b6e1-c7b0-4fa7-8d2e-878db4c3b95a",
   "metadata": {},
   "source": [
    "### 2. **Fundamentos teóricos**\n",
    "\n",
    "#### ¿Qué es una red neuronal?\n",
    "Una red neuronal artificial es un modelo computacional inspirado en el cerebro humano. Está compuesta por capas de nodos (neuronas) que transforman entradas en salidas mediante funciones de activación y pesos ajustables.\n",
    "\n",
    "#### Arquitectura utilizada:\n",
    "- **Capa de entrada**: 4 neuronas (una por cada bit de entrada).\n",
    "- **Capa**: 8 neuronas con función de activación sigmoide.\n",
    "- **Capa de salida**: 1 neurona que predice si la suma de los unos es impar (1) o par (0).\n",
    "\n",
    "#### ¿Por qué XOR?\n",
    "La función XOR devuelve 1 si el número de unos en la entrada es impar, y 0 si es par. Es un problema no lineal, lo que lo convierte en un excelente caso de estudio para redes neuronales multicapa.\n"
   ]
  },
  {
   "cell_type": "markdown",
   "id": "78eefd75-40d1-4b35-b179-5a05c16c7697",
   "metadata": {},
   "source": [
    "### 3. **Preparación del dataset**\n",
    "- Se importan las librerías necesarias: `numpy` para cálculos numéricos y `pandas` para mostrar resultados en formato de tabla.\n",
    "- Se define `X` como un conjunto de entradas binarias de 4 bits. Son todas las combinaciones posibles de 0s y 1s para 4 dígitos (16 combinaciones en total).\n",
    "- La salida `y` representa si el número de unos en cada combinación es **impar (1)** o **par (0)**. Esta es una tarea de clasificación binaria.\n"
   ]
  },
  {
   "cell_type": "code",
   "execution_count": 1,
   "id": "52533579-8f9a-4453-8b6e-28a96694ee0f",
   "metadata": {},
   "outputs": [],
   "source": [
    "import numpy as np\n",
    "import pandas as pd\n"
   ]
  },
  {
   "cell_type": "code",
   "execution_count": 2,
   "id": "cf488e72-bfbe-42c2-aff7-1f32b0162879",
   "metadata": {},
   "outputs": [],
   "source": [
    "# Entradas: combinaciones binarias de 4 bits\n",
    "X = np.array([[0,0,0,0],\n",
    "              [0,0,0,1],\n",
    "              [0,0,1,0],\n",
    "              [0,0,1,1],\n",
    "              [0,1,0,0],\n",
    "              [0,1,0,1],\n",
    "              [0,1,1,0],\n",
    "              [0,1,1,1],\n",
    "              [1,0,0,0],\n",
    "              [1,0,0,1],\n",
    "              [1,0,1,0],\n",
    "              [1,0,1,1],\n",
    "              [1,1,0,0],\n",
    "              [1,1,0,1],\n",
    "              [1,1,1,0],\n",
    "              [1,1,1,1]])\n",
    "\n",
    "# Salidas: 1 si la suma de los unos es impar, 0 si es par\n",
    "y = np.array([[0],\n",
    "              [1],\n",
    "              [1],\n",
    "              [0],\n",
    "              [1],\n",
    "              [0],\n",
    "              [0],\n",
    "              [1],\n",
    "              [1],\n",
    "              [0],\n",
    "              [0],\n",
    "              [1],\n",
    "              [0],\n",
    "              [1],\n",
    "              [1],\n",
    "              [0]])\n"
   ]
  },
  {
   "cell_type": "markdown",
   "id": "fe8d2745-7ace-49a7-8afa-2c95a5447a30",
   "metadata": {},
   "source": [
    "## 4. Implementación de la red neuronal\n",
    "\n",
    "### Funciones auxiliares\n",
    "\n",
    "- `sigmoid(z)`: función de activación que transforma los valores entre 0 y 1, útil para clasificación binaria.\n",
    "- `derivada(fz)`: es la derivada de la sigmoide, utilizada durante el proceso de retropropagación para ajustar los pesos de manera eficiente.\n",
    "\n",
    "\n"
   ]
  },
  {
   "cell_type": "code",
   "execution_count": 3,
   "id": "9fdf3cea-cef8-403d-aa0c-ab94fd056e89",
   "metadata": {},
   "outputs": [],
   "source": [
    "def sigmoid(z):\n",
    "    \"\"\"Función sigmoide: aplana valores entre 0 y 1\"\"\"\n",
    "    return 1 / (1 + np.exp(-z))\n",
    "\n",
    "def derivada(fz):\n",
    "    \"\"\"Derivada de la sigmoide: usada para retropropagación\"\"\"\n",
    "    return fz * (1 - fz)\n"
   ]
  },
  {
   "cell_type": "markdown",
   "id": "dcdf4fa1-9723-42a0-bcac-c2bc2155c82d",
   "metadata": {},
   "source": [
    "### Inicialización\n",
    "\n",
    "- Se establece una semilla aleatoria con `np.random.seed(1)` para asegurar que los resultados sean reproducibles.\n",
    "- `syn0`: matriz de pesos entre la capa de entrada (4 neuronas) y la capa oculta (8 neuronas). Se inicializa con valores aleatorios.\n",
    "- `syn1`: matriz de pesos entre la capa oculta (8 neuronas) y la capa de salida (1 neurona). También se inicializa con valores aleatorios.\n",
    "\n",
    "\n"
   ]
  },
  {
   "cell_type": "code",
   "execution_count": 4,
   "id": "1f113339-b47e-43f8-8a9d-acc45e8405fa",
   "metadata": {},
   "outputs": [],
   "source": [
    "np.random.seed(1)  # Semilla para reproducibilidad\n",
    "\n",
    "# Pesos entre capa de entrada (4) y capa oculta (8)\n",
    "syn0 = np.random.random((4, 8))\n",
    "\n",
    "# Pesos entre capa oculta (8) y capa de salida (1)\n",
    "syn1 = np.random.random((8, 1))\n"
   ]
  },
  {
   "cell_type": "code",
   "execution_count": 5,
   "id": "91a43a7a-346d-4e75-830d-5c8f1b8cf003",
   "metadata": {},
   "outputs": [
    {
     "name": "stdout",
     "output_type": "stream",
     "text": [
      "[[4.17022005e-01 7.20324493e-01 1.14374817e-04 3.02332573e-01\n",
      "  1.46755891e-01 9.23385948e-02 1.86260211e-01 3.45560727e-01]\n",
      " [3.96767474e-01 5.38816734e-01 4.19194514e-01 6.85219500e-01\n",
      "  2.04452250e-01 8.78117436e-01 2.73875932e-02 6.70467510e-01]\n",
      " [4.17304802e-01 5.58689828e-01 1.40386939e-01 1.98101489e-01\n",
      "  8.00744569e-01 9.68261576e-01 3.13424178e-01 6.92322616e-01]\n",
      " [8.76389152e-01 8.94606664e-01 8.50442114e-02 3.90547832e-02\n",
      "  1.69830420e-01 8.78142503e-01 9.83468338e-02 4.21107625e-01]]\n",
      "[[0.95788953]\n",
      " [0.53316528]\n",
      " [0.69187711]\n",
      " [0.31551563]\n",
      " [0.68650093]\n",
      " [0.83462567]\n",
      " [0.01828828]\n",
      " [0.75014431]]\n"
     ]
    }
   ],
   "source": [
    "print(syn0)\n",
    "print(syn1)"
   ]
  },
  {
   "cell_type": "markdown",
   "id": "b3c7ba3b-cb4d-4b03-80d2-32fd3136374e",
   "metadata": {},
   "source": [
    "### Entrenamiento\n",
    "\n",
    "- El entrenamiento se realiza durante 100,000 iteraciones (épocas).\n",
    "- En cada iteración se realiza lo siguiente:\n",
    "#### Propagación hacia adelante (forward propagation)\n",
    "\n",
    "- `l0`: capa de entrada (`X`).\n",
    "- `l1`: resultado de aplicar la sigmoide a la combinación lineal de entradas y pesos `syn0`. Es la salida de la capa oculta.\n",
    "- `l2`: salida final de la red, calculada aplicando la sigmoide a la salida de la capa oculta multiplicada por los pesos `syn1`.\n",
    "\n",
    "#### Cálculo del error\n",
    "\n",
    "- `l2_error`: diferencia entre la salida real `y` y la salida predicha `l2`.\n",
    "\n",
    "#### Retropropagación (backpropagation)\n",
    "\n",
    "- `l2_delta`: error de la salida ajustado por la derivada de la sigmoide. Indica cuánto y en qué dirección ajustar los pesos de salida.\n",
    "- `l1_error`: propagación del error hacia la capa oculta.\n",
    "- `l1_delta`: error de la capa oculta ajustado por la derivada de la sigmoide.\n",
    "\n",
    "#### Actualización de pesos\n",
    "\n",
    "- `syn1` se actualiza sumando el producto de la transpuesta de `l1` con `l2_delta`.\n",
    "- `syn0` se actualiza sumando el producto de la transpuesta de `l0` con `l1_delta`."
   ]
  },
  {
   "cell_type": "code",
   "execution_count": 6,
   "id": "a698c46c-0091-48c8-94b0-cb918684646e",
   "metadata": {},
   "outputs": [],
   "source": [
    "for j in range(100000):  # Número de épocas\n",
    "    # Forward propagation\n",
    "    l0 = X\n",
    "    l1 = sigmoid(np.dot(l0, syn0))  # Capa oculta\n",
    "    l2 = sigmoid(np.dot(l1, syn1))  # Capa de salida (predicción)\n",
    "\n",
    "    # Cálculo del error\n",
    "    l2_error = y - l2\n",
    "\n",
    "    # Backpropagation\n",
    "    l2_delta = l2_error * derivada(l2)\n",
    "    l1_error = l2_delta.dot(syn1.T)\n",
    "    l1_delta = l1_error * derivada(l1)\n",
    "\n",
    "    # Actualización de pesos\n",
    "    syn1 += l1.T.dot(l2_delta)\n",
    "    syn0 += l0.T.dot(l1_delta)\n"
   ]
  },
  {
   "cell_type": "markdown",
   "id": "b9c09732-40bc-426b-bffd-c84825c3b2d9",
   "metadata": {},
   "source": [
    "### 5. **Evaluación del modelo**\n",
    "- Se calcula la predicción final (`y_pred`) convirtiendo las salidas continuas de `l2` en clases binarias: 1 si ≥ 0.5, de lo contrario 0.\n",
    "- Se crea un `DataFrame` con las columnas de entrada (`X1`, `X2`, `X3`, `X4`), la salida real (`Real`) y la predicción del modelo (`Predicción`).\n",
    "- Finalmente, se imprimen los resultados para analizar el rendimiento del modelo."
   ]
  },
  {
   "cell_type": "code",
   "execution_count": 7,
   "id": "32a832cc-7e6c-40cc-9dd7-adf72838b017",
   "metadata": {},
   "outputs": [],
   "source": [
    "# Clasificación binaria: 1 si >= 0.5, si no 0\n",
    "y_pred = (l2 >= 0.5).astype(\"int32\").flatten()\n",
    "y_real = y.flatten()\n"
   ]
  },
  {
   "cell_type": "code",
   "execution_count": 14,
   "id": "1d04c03a-8668-433d-b581-b2902476612a",
   "metadata": {},
   "outputs": [
    {
     "name": "stdout",
     "output_type": "stream",
     "text": [
      "Pesos capa 1 (input → hidden):\n",
      "          H1        H2        H3        H4        H5        H6        H7  \\\n",
      "X1  8.486319 -5.688182  5.086732 -4.737871 -4.826451 -8.098227 -3.692938   \n",
      "X2 -0.203379  8.314844  2.779455  4.131548 -6.681350  6.576891 -0.765632   \n",
      "X3 -3.483455 -3.998381 -7.062802 -6.606678  9.074959  6.841516  5.489078   \n",
      "X4 -0.815659  8.174979 -6.994430 -2.105000 -6.242700  6.898812  5.141640   \n",
      "\n",
      "          H8  \n",
      "X1 -5.423394  \n",
      "X2  7.259981  \n",
      "X3  7.292005  \n",
      "X4 -2.998088  \n",
      "\n",
      "Pesos capa 2 (hidden → output):\n",
      "       Salida\n",
      "H1 -11.104165\n",
      "H2 -12.395743\n",
      "H3  16.815860\n",
      "H4 -10.040266\n",
      "H5 -11.924380\n",
      "H6  22.352846\n",
      "H7   0.719628\n",
      "H8  -5.122922\n",
      "\n",
      "Tabla de predicciones:\n",
      "    X1  X2  X3  X4  Real  Predicción\n",
      "0    0   0   0   0     0           0\n",
      "1    0   0   0   1     1           1\n",
      "2    0   0   1   0     1           1\n",
      "3    0   0   1   1     0           0\n",
      "4    0   1   0   0     1           1\n",
      "5    0   1   0   1     0           0\n",
      "6    0   1   1   0     0           0\n",
      "7    0   1   1   1     1           1\n",
      "8    1   0   0   0     1           1\n",
      "9    1   0   0   1     0           0\n",
      "10   1   0   1   0     0           0\n",
      "11   1   0   1   1     1           1\n",
      "12   1   1   0   0     0           0\n",
      "13   1   1   0   1     1           1\n",
      "14   1   1   1   0     1           1\n",
      "15   1   1   1   1     0           0\n"
     ]
    }
   ],
   "source": [
    "# Crear DataFrame con entradas, salidas reales y predicciones\n",
    "df = pd.DataFrame(X, columns=['X1', 'X2', 'X3', 'X4'])\n",
    "df['Real'] = y_real\n",
    "df['Predicción'] = y_pred\n",
    "\n",
    "df_syn0 = pd.DataFrame(syn0, index=['X1', 'X2', 'X3', 'X4'], columns=[f'H{i+1}' for i in range(8)])\n",
    "\n",
    "# Tabla de pesos capa 2\n",
    "df_syn1 = pd.DataFrame(syn1, index=[f'H{i+1}' for i in range(8)], columns=['Salida'])\n",
    "\n",
    "# Mostrar todo\n",
    "print(\"Pesos capa 1 (input → hidden):\")\n",
    "print(df_syn0, end=\"\\n\\n\")\n",
    "\n",
    "print(\"Pesos capa 2 (hidden → output):\")\n",
    "print(df_syn1, end=\"\\n\\n\")\n",
    "\n",
    "print(\"Tabla de predicciones:\")\n",
    "print(df.head(16))"
   ]
  },
  {
   "cell_type": "markdown",
   "id": "f5aae74c-0797-4a67-b24b-684e924bdafc",
   "metadata": {},
   "source": [
    "### 6. **Conclusiones**\n",
    "\n",
    "- La red neuronal implementada fue capaz de **aprender correctamente** la lógica XOR de 4 entradas.\n",
    "- Se demostró que una red con **una sola capa oculta** y una función de activación no lineal (sigmoide) puede resolver problemas no lineales.\n",
    "- La implementación desde cero permitió comprender en profundidad el funcionamiento interno de una red neuronal, incluyendo:\n",
    "  - Inicialización de pesos.\n",
    "  - Propagación hacia adelante.\n",
    "  - Retropropagación del error.\n",
    "  - Ajuste de pesos mediante descenso de gradiente.\n",
    "- Este ejercicio refuerza la importancia de las **capas ocultas** y la **no linealidad** en el aprendizaje profundo.\n",
    "\n",
    "---"
   ]
  },
  {
   "cell_type": "markdown",
   "id": "f2b98582-e7ba-4801-b634-4916a71befa0",
   "metadata": {},
   "source": [
    "### 7. **Referencias**\n",
    "\n",
    "- Goodfellow, I., Bengio, Y., & Courville, A. (2016). *Deep Learning*. MIT Press.\n",
    "- Blog de referencia: http://tecdig2013g7.blogspot.com/2013/03/http2bpblogspotcom-dlcdju.html\n",
    "- Documentación oficial de NumPy: https://numpy.org/doc/\n",
    "- Documentación oficial de Pandas: https://pandas.pydata.org/docs/\n"
   ]
  },
  {
   "cell_type": "code",
   "execution_count": null,
   "id": "36f9d8fc-e010-46b8-b438-317bf00cef7c",
   "metadata": {},
   "outputs": [],
   "source": []
  }
 ],
 "metadata": {
  "kernelspec": {
   "display_name": "Python 3 (ipykernel)",
   "language": "python",
   "name": "python3"
  },
  "language_info": {
   "codemirror_mode": {
    "name": "ipython",
    "version": 3
   },
   "file_extension": ".py",
   "mimetype": "text/x-python",
   "name": "python",
   "nbconvert_exporter": "python",
   "pygments_lexer": "ipython3",
   "version": "3.13.3"
  }
 },
 "nbformat": 4,
 "nbformat_minor": 5
}
