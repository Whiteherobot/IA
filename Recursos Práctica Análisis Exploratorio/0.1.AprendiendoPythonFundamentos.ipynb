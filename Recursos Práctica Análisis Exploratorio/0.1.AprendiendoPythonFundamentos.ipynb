{
 "cells": [
  {
   "cell_type": "markdown",
   "metadata": {},
   "source": [
    "<div style=\"color:#3c4d5a; border-top: 7px solid #42A5F5; border-bottom: 7px solid #42A5F5; padding: 5px; text-align: center; text-transform: uppercase\"><h1>Aprendiendo python: fundamentos</h1> </div>"
   ]
  },
  {
   "cell_type": "markdown",
   "metadata": {},
   "source": [
    "Desarrollado por: Ing. Remigio Hurtado Ortiz, PhD. Correo de contacto: remigiohurtado@gmail.com"
   ]
  },
  {
   "cell_type": "markdown",
   "metadata": {},
   "source": [
    "En esta práctica, aprenderás los fundamentos de Python de tal manera que puedas crear tus propias funciones. En las prácticas más avanzadas, podrás diseñar tus propios métodos de Machine Learning.\n",
    "    \n",
    "Requisitos: es importante tener conocimientos de Programación.\n",
    "\n",
    "Esta práctica está estructurada de la siguiente manera:"
   ]
  },
  {
   "cell_type": "markdown",
   "metadata": {},
   "source": [
    "<div class=\"jp-RenderedHTMLCommon jp-RenderedMarkdown jp-MarkdownOutput \" data-mime-type=\"text/markdown\">\n",
    "\n",
    "<ul>\n",
    "    <li>\n",
    "    <p><a href=\"#Fundamentos\">Variables</a></p>\n",
    "    </li>\n",
    "    <li>\n",
    "    <p><a href=\"#Operadores\">Operadores</a></p>\n",
    "    </li>\n",
    "    <li>\n",
    "    <p><a href=\"#tiposDatos\">Tipos de datos</a></p>\n",
    "    </li>\n",
    "    <li>\n",
    "    <p><a href=\"#listasDiccionarios\">Listas y diccionarios</a></p>\n",
    "    </li>\n",
    "    <li>\n",
    "    <p><a href=\"#funcionesInternas\">Algunas funciones internas</a></p>\n",
    "    </li>\n",
    "    <li>\n",
    "    <p><a href=\"#estructurasControl\">Estructuras de control</a></p>\n",
    "    </li>\n",
    "    <li>\n",
    "    <p><a href=\"#conclusiones\">Conclusiones</a></p>\n",
    "    </li>\n",
    "    <li>\n",
    "    <p><a href=\"#Referencias-enlaces\">Referencias y enlaces</a></p>\n",
    "    </li>\n",
    "</ul>\n",
    "</div>"
   ]
  },
  {
   "cell_type": "markdown",
   "metadata": {},
   "source": [
    "<div id=\"Fundamentos\" style=\"color:#37475a; border-bottom: 7px solid orange; width: 100%; margin-bottom: 15px; padding-bottom: 2px\"><h2>Variables</h2> </div>"
   ]
  },
  {
   "cell_type": "code",
   "execution_count": 1,
   "metadata": {},
   "outputs": [
    {
     "data": {
      "text/plain": [
       "6"
      ]
     },
     "execution_count": 1,
     "metadata": {},
     "output_type": "execute_result"
    }
   ],
   "source": [
    "3*2"
   ]
  },
  {
   "cell_type": "code",
   "execution_count": 2,
   "metadata": {},
   "outputs": [
    {
     "name": "stdout",
     "output_type": "stream",
     "text": [
      "Hola\n",
      "15\n",
      "hola 15\n"
     ]
    },
    {
     "data": {
      "text/plain": [
       "float"
      ]
     },
     "execution_count": 2,
     "metadata": {},
     "output_type": "execute_result"
    }
   ],
   "source": [
    "mensaje = \"Hola\"\n",
    "n = 15\n",
    "pi = 3.141516\n",
    "a= True\n",
    "b=4+5j\n",
    "\n",
    "print(mensaje)\n",
    "print(n)\n",
    "print(\"hola\",n)\n",
    "\n",
    "type(pi)"
   ]
  },
  {
   "cell_type": "markdown",
   "metadata": {},
   "source": [
    "<div id=\"Operadores\" style=\"color:#37475a; border-bottom: 7px solid orange; width: 100%; margin-bottom: 15px; padding-bottom: 2px\"><h2>Operadores</h2> </div>"
   ]
  },
  {
   "cell_type": "markdown",
   "metadata": {},
   "source": [
    "### Operador suma (o adición)"
   ]
  },
  {
   "cell_type": "code",
   "execution_count": 8,
   "metadata": {},
   "outputs": [
    {
     "name": "stdout",
     "output_type": "stream",
     "text": [
      "12\n",
      "12.61\n",
      "24.61\n"
     ]
    }
   ],
   "source": [
    "suma = 5 + 7\n",
    "sumaFlotante = 5.2 + 7.41\n",
    "total = suma + sumaFlotante\n",
    "print(suma)\n",
    "print(sumaFlotante)\n",
    "print(total)"
   ]
  },
  {
   "cell_type": "markdown",
   "metadata": {},
   "source": [
    "### Operador exponente"
   ]
  },
  {
   "cell_type": "code",
   "execution_count": 5,
   "metadata": {},
   "outputs": [
    {
     "data": {
      "text/plain": [
       "64"
      ]
     },
     "execution_count": 5,
     "metadata": {},
     "output_type": "execute_result"
    }
   ],
   "source": [
    "4 ** 3"
   ]
  },
  {
   "cell_type": "markdown",
   "metadata": {},
   "source": [
    "### Operador Módulo (o resto)\n",
    "###### Devuelve el resto de la división entera de dos números. Es muy común utilizarlo cuando se quiere saber si un número es par o impar."
   ]
  },
  {
   "cell_type": "code",
   "execution_count": 10,
   "metadata": {},
   "outputs": [
    {
     "data": {
      "text/plain": [
       "0"
      ]
     },
     "execution_count": 10,
     "metadata": {},
     "output_type": "execute_result"
    }
   ],
   "source": [
    "6 % 2 # == 0 es par"
   ]
  },
  {
   "cell_type": "code",
   "execution_count": 11,
   "metadata": {},
   "outputs": [
    {
     "data": {
      "text/plain": [
       "1"
      ]
     },
     "execution_count": 11,
     "metadata": {},
     "output_type": "execute_result"
    }
   ],
   "source": [
    "5 % 2 # == 1 es impar"
   ]
  },
  {
   "cell_type": "markdown",
   "metadata": {},
   "source": [
    "### Operador División"
   ]
  },
  {
   "cell_type": "code",
   "execution_count": 14,
   "metadata": {},
   "outputs": [
    {
     "data": {
      "text/plain": [
       "2.5"
      ]
     },
     "execution_count": 14,
     "metadata": {},
     "output_type": "execute_result"
    }
   ],
   "source": [
    "5 / 2 # == 2"
   ]
  },
  {
   "cell_type": "code",
   "execution_count": 15,
   "metadata": {},
   "outputs": [
    {
     "data": {
      "text/plain": [
       "2.5"
      ]
     },
     "execution_count": 15,
     "metadata": {},
     "output_type": "execute_result"
    }
   ],
   "source": [
    "5 / 2.0 # == 2"
   ]
  },
  {
   "cell_type": "markdown",
   "metadata": {},
   "source": [
    "### Operador Divisón Entera"
   ]
  },
  {
   "cell_type": "code",
   "execution_count": 16,
   "metadata": {},
   "outputs": [
    {
     "data": {
      "text/plain": [
       "2"
      ]
     },
     "execution_count": 16,
     "metadata": {},
     "output_type": "execute_result"
    }
   ],
   "source": [
    "5 // 2"
   ]
  },
  {
   "cell_type": "code",
   "execution_count": 18,
   "metadata": {},
   "outputs": [
    {
     "data": {
      "text/plain": [
       "2.0"
      ]
     },
     "execution_count": 18,
     "metadata": {},
     "output_type": "execute_result"
    }
   ],
   "source": [
    "5 // 2.0"
   ]
  },
  {
   "cell_type": "code",
   "execution_count": 19,
   "metadata": {},
   "outputs": [
    {
     "data": {
      "text/plain": [
       "1.0"
      ]
     },
     "execution_count": 19,
     "metadata": {},
     "output_type": "execute_result"
    }
   ],
   "source": [
    "5 // 3.33"
   ]
  },
  {
   "cell_type": "markdown",
   "metadata": {},
   "source": [
    "### Operadores lógicos"
   ]
  },
  {
   "cell_type": "code",
   "execution_count": 9,
   "metadata": {},
   "outputs": [
    {
     "data": {
      "text/plain": [
       "False"
      ]
     },
     "execution_count": 9,
     "metadata": {},
     "output_type": "execute_result"
    }
   ],
   "source": [
    "not True"
   ]
  },
  {
   "cell_type": "code",
   "execution_count": 25,
   "metadata": {},
   "outputs": [
    {
     "data": {
      "text/plain": [
       "True"
      ]
     },
     "execution_count": 25,
     "metadata": {},
     "output_type": "execute_result"
    }
   ],
   "source": [
    "True or True"
   ]
  },
  {
   "cell_type": "code",
   "execution_count": 26,
   "metadata": {},
   "outputs": [
    {
     "data": {
      "text/plain": [
       "True"
      ]
     },
     "execution_count": 26,
     "metadata": {},
     "output_type": "execute_result"
    }
   ],
   "source": [
    "True or False"
   ]
  },
  {
   "cell_type": "code",
   "execution_count": 27,
   "metadata": {},
   "outputs": [
    {
     "data": {
      "text/plain": [
       "True"
      ]
     },
     "execution_count": 27,
     "metadata": {},
     "output_type": "execute_result"
    }
   ],
   "source": [
    "True and True"
   ]
  },
  {
   "cell_type": "code",
   "execution_count": 28,
   "metadata": {},
   "outputs": [
    {
     "data": {
      "text/plain": [
       "False"
      ]
     },
     "execution_count": 28,
     "metadata": {},
     "output_type": "execute_result"
    }
   ],
   "source": [
    "True and False"
   ]
  },
  {
   "cell_type": "code",
   "execution_count": 13,
   "metadata": {},
   "outputs": [
    {
     "data": {
      "text/plain": [
       "True"
      ]
     },
     "execution_count": 13,
     "metadata": {},
     "output_type": "execute_result"
    }
   ],
   "source": [
    "True and True and True and True and True"
   ]
  },
  {
   "cell_type": "code",
   "execution_count": 29,
   "metadata": {},
   "outputs": [
    {
     "data": {
      "text/plain": [
       "True"
      ]
     },
     "execution_count": 29,
     "metadata": {},
     "output_type": "execute_result"
    }
   ],
   "source": [
    "not (True and False)"
   ]
  },
  {
   "cell_type": "markdown",
   "metadata": {},
   "source": [
    "<div id=\"tiposDatos\" style=\"color:#37475a; border-bottom: 7px solid orange; width: 100%; margin-bottom: 15px; padding-bottom: 2px\"><h2>Tipos de datos</h2> </div>"
   ]
  },
  {
   "cell_type": "markdown",
   "metadata": {},
   "source": [
    "### Enteros (int y long)"
   ]
  },
  {
   "cell_type": "code",
   "execution_count": 16,
   "metadata": {},
   "outputs": [],
   "source": [
    "a = 5"
   ]
  },
  {
   "cell_type": "code",
   "execution_count": 12,
   "metadata": {},
   "outputs": [
    {
     "data": {
      "text/plain": [
       "int"
      ]
     },
     "execution_count": 12,
     "metadata": {},
     "output_type": "execute_result"
    }
   ],
   "source": [
    "#Tipo de dato identificado automáticamente por Python. No es necesario declarar el tipo\n",
    "type(a)"
   ]
  },
  {
   "cell_type": "markdown",
   "metadata": {},
   "source": [
    "### Decimales (float)"
   ]
  },
  {
   "cell_type": "code",
   "execution_count": 13,
   "metadata": {},
   "outputs": [],
   "source": [
    "a = 2.3"
   ]
  },
  {
   "cell_type": "code",
   "execution_count": 14,
   "metadata": {},
   "outputs": [
    {
     "data": {
      "text/plain": [
       "float"
      ]
     },
     "execution_count": 14,
     "metadata": {},
     "output_type": "execute_result"
    }
   ],
   "source": [
    "type(a)"
   ]
  },
  {
   "cell_type": "markdown",
   "metadata": {},
   "source": [
    "### Números complejos"
   ]
  },
  {
   "cell_type": "code",
   "execution_count": 17,
   "metadata": {},
   "outputs": [],
   "source": [
    "a = 2.1 + 7.8j"
   ]
  },
  {
   "cell_type": "code",
   "execution_count": 18,
   "metadata": {},
   "outputs": [
    {
     "data": {
      "text/plain": [
       "complex"
      ]
     },
     "execution_count": 18,
     "metadata": {},
     "output_type": "execute_result"
    }
   ],
   "source": [
    "type(a)"
   ]
  },
  {
   "cell_type": "markdown",
   "metadata": {},
   "source": [
    "### Booleandos (Boolean)"
   ]
  },
  {
   "cell_type": "code",
   "execution_count": 22,
   "metadata": {},
   "outputs": [],
   "source": [
    "a = True"
   ]
  },
  {
   "cell_type": "code",
   "execution_count": 23,
   "metadata": {},
   "outputs": [
    {
     "data": {
      "text/plain": [
       "bool"
      ]
     },
     "execution_count": 23,
     "metadata": {},
     "output_type": "execute_result"
    }
   ],
   "source": [
    "type(a)"
   ]
  },
  {
   "cell_type": "markdown",
   "metadata": {},
   "source": [
    "### Cadenas (String)"
   ]
  },
  {
   "cell_type": "code",
   "execution_count": 31,
   "metadata": {},
   "outputs": [
    {
     "name": "stdout",
     "output_type": "stream",
     "text": [
      "hola, mi nombre es Pedro y estamos en Programación\n"
     ]
    }
   ],
   "source": [
    "cadena = 'hola, mi nombre es Pedro y estamos en Programación'\n",
    "print(cadena)"
   ]
  },
  {
   "cell_type": "code",
   "execution_count": 32,
   "metadata": {},
   "outputs": [
    {
     "data": {
      "text/plain": [
       "str"
      ]
     },
     "execution_count": 32,
     "metadata": {},
     "output_type": "execute_result"
    }
   ],
   "source": [
    "type(cadena)"
   ]
  },
  {
   "cell_type": "code",
   "execution_count": 37,
   "metadata": {},
   "outputs": [
    {
     "name": "stdout",
     "output_type": "stream",
     "text": [
      "hola, mi nombre es Pedro y estamos en Programación\n"
     ]
    }
   ],
   "source": [
    "cadena = \"hola, mi nombre es Pedro y estamos en Programación\"\n",
    "print(cadena)"
   ]
  },
  {
   "cell_type": "code",
   "execution_count": 7,
   "metadata": {},
   "outputs": [
    {
     "name": "stdout",
     "output_type": "stream",
     "text": [
      "hola, \n",
      "Mi nombre es Pedro y estamos en: \t Programación\n"
     ]
    }
   ],
   "source": [
    "cadena = \"hola, \\nMi nombre es Pedro y estamos en: \\t Programación\"\n",
    "print(cadena)"
   ]
  },
  {
   "cell_type": "code",
   "execution_count": 15,
   "metadata": {},
   "outputs": [
    {
     "name": "stdout",
     "output_type": "stream",
     "text": [
      "hola, \n",
      "Mi nombre es Pedro y estamos en: \t Programación\n"
     ]
    }
   ],
   "source": [
    "cadena = \"\"\"hola, \n",
    "Mi nombre es Pedro y estamos en: \\t Programación\"\"\"\n",
    "print(cadena)"
   ]
  },
  {
   "cell_type": "markdown",
   "metadata": {},
   "source": [
    "#### Las cadenas también admiten operadores como la suma (concatenación de cadenas) y la multiplicación"
   ]
  },
  {
   "cell_type": "code",
   "execution_count": 1,
   "metadata": {},
   "outputs": [
    {
     "name": "stdout",
     "output_type": "stream",
     "text": [
      "unodos\n"
     ]
    }
   ],
   "source": [
    "a = \"uno\"; b = \"dos\"\n",
    "c = a + b\n",
    "print(c)"
   ]
  },
  {
   "cell_type": "code",
   "execution_count": 6,
   "metadata": {},
   "outputs": [
    {
     "name": "stdout",
     "output_type": "stream",
     "text": [
      "unounouno\n"
     ]
    }
   ],
   "source": [
    "c = a * 3 # c es \"unounouno\"\n",
    "print(c)"
   ]
  },
  {
   "cell_type": "markdown",
   "metadata": {},
   "source": [
    "<div id=\"listasDiccionarios\" style=\"color:#37475a; border-bottom: 7px solid orange; width: 100%; margin-bottom: 15px; padding-bottom: 2px\"><h2>Listas y diccionarios</h2> </div>"
   ]
  },
  {
   "cell_type": "markdown",
   "metadata": {},
   "source": [
    "Una lista es un conjunto de elementos de cualquier tipo. Una lista es dinámica (mutable). Una tupla es un conjunto ordenado e inmutable de elementos."
   ]
  },
  {
   "cell_type": "code",
   "execution_count": 3,
   "metadata": {},
   "outputs": [
    {
     "data": {
      "text/plain": [
       "['hola']"
      ]
     },
     "execution_count": 3,
     "metadata": {},
     "output_type": "execute_result"
    }
   ],
   "source": [
    "# Obtener la palabra hola de la lista jerárquica\n",
    "lst = ['a','b',[4,10,11],['c',[1,66,['hola']],2,111],'e',7]\n",
    "lst[3][1][2]"
   ]
  },
  {
   "cell_type": "markdown",
   "metadata": {},
   "source": [
    "Un diccionario es un tipo de estructura de datos que permite guardar un conjunto no ordenado de pares clave-valor, siendo las claves únicas dentro de un mismo diccionario (es decir que no pueden existir dos elementos con una misma clave)."
   ]
  },
  {
   "cell_type": "code",
   "execution_count": 5,
   "metadata": {},
   "outputs": [
    {
     "data": {
      "text/plain": [
       "'mundial'"
      ]
     },
     "execution_count": 5,
     "metadata": {},
     "output_type": "execute_result"
    }
   ],
   "source": [
    "# Obtener la palabra mundial del diccionario jerárquico\n",
    "d = {'k1':['val1','val2','val3',{'nosotros':['tenemos','que','ir',{'al':[1,2,3,'mundial']}]}]}\n",
    "d['k1'][3]['nosotros'][3]['al'][3]"
   ]
  },
  {
   "cell_type": "markdown",
   "metadata": {},
   "source": [
    "<div id=\"funcionesInternas\" style=\"color:#37475a; border-bottom: 7px solid orange; width: 100%; margin-bottom: 15px; padding-bottom: 2px\"><h2>Algunas funciones internas</h2> </div>"
   ]
  },
  {
   "cell_type": "code",
   "execution_count": 1,
   "metadata": {},
   "outputs": [
    {
     "name": "stdout",
     "output_type": "stream",
     "text": [
      "['Python', 'es', 'el', 'lenguaje', 'de', 'preferencia', 'de', 'las', 'ingenierías!']\n"
     ]
    }
   ],
   "source": [
    "# Dividir la cadena s en palabras\n",
    "s = \"Python es el lenguaje de preferencia de las ingenierías!\"\n",
    "s=s.split()\n",
    "print(s)"
   ]
  },
  {
   "cell_type": "code",
   "execution_count": 2,
   "metadata": {},
   "outputs": [
    {
     "name": "stdout",
     "output_type": "stream",
     "text": [
      "La altura del Monte Everest es 8848 metros.\n"
     ]
    }
   ],
   "source": [
    "# Dar formato a una cadena con algunas variables\n",
    "monte= \"Monte Everest\"\n",
    "altura = 8848\n",
    "print(\"La altura del {m} es {a} metros.\".format( m=monte, a=altura ))"
   ]
  },
  {
   "cell_type": "code",
   "execution_count": 4,
   "metadata": {},
   "outputs": [
    {
     "data": {
      "text/plain": [
       "'ups.edu.ec'"
      ]
     },
     "execution_count": 4,
     "metadata": {},
     "output_type": "execute_result"
    }
   ],
   "source": [
    "# Obtener el nombre de dominio de la dirección de correo\n",
    "def obtenerDominio(s='rhurtadoo@ups.edu.ec'):\n",
    "    return s[s.find('@')+1:]\n",
    "    #return mail.?()[-1]\n",
    "obtenerDominio()"
   ]
  },
  {
   "cell_type": "code",
   "execution_count": 8,
   "metadata": {},
   "outputs": [
    {
     "data": {
      "text/plain": [
       "True"
      ]
     },
     "execution_count": 8,
     "metadata": {},
     "output_type": "execute_result"
    }
   ],
   "source": [
    "# Crear una función que devuelva True si la palabra internet se encuentra en la cadena\n",
    "def buscarInternet(s):\n",
    "    return 'redes' in s.lower().split()\n",
    "buscarInternet('Internet es un conjunto descentralizado de redes de comunicaciones interconectada')"
   ]
  },
  {
   "cell_type": "code",
   "execution_count": 11,
   "metadata": {},
   "outputs": [
    {
     "data": {
      "text/plain": [
       "2"
      ]
     },
     "execution_count": 11,
     "metadata": {},
     "output_type": "execute_result"
    }
   ],
   "source": [
    "# Crear una función para contar el número de veces que una palabra ocurre en una cadena\n",
    "def contarPalabra(st):\n",
    "    count=st.count(\"IoT\")\n",
    "    return count\n",
    "contarPalabra('¡No sé cómo se escribe IoT! ¿Es IoT o iot? ¿Qué significa iot de todos modos?')"
   ]
  },
  {
   "cell_type": "code",
   "execution_count": 23,
   "metadata": {},
   "outputs": [
    {
     "data": {
      "text/plain": [
       "5"
      ]
     },
     "execution_count": 23,
     "metadata": {},
     "output_type": "execute_result"
    }
   ],
   "source": [
    "# Usar la función len para obtener la cantidad de elementos en una lista\n",
    "lista=[1,3,7,21,10]\n",
    "len(lista)"
   ]
  },
  {
   "cell_type": "code",
   "execution_count": 8,
   "metadata": {},
   "outputs": [
    {
     "name": "stdout",
     "output_type": "stream",
     "text": [
      "[2, 3, 4, 7]\n",
      "[7, 4, 3, 2]\n"
     ]
    }
   ],
   "source": [
    "# Usar la función sort para ordenar una lista\n",
    "lista=[3,4,7,2]\n",
    "lista.sort() # por defecto orden ascendente\n",
    "print(lista)\n",
    "lista.sort(reverse=True) # para cambiar a orden descendente\n",
    "print(lista)"
   ]
  },
  {
   "cell_type": "code",
   "execution_count": 9,
   "metadata": {},
   "outputs": [
    {
     "name": "stdout",
     "output_type": "stream",
     "text": [
      "Help on built-in function sort:\n",
      "\n",
      "sort(*, key=None, reverse=False) method of builtins.list instance\n",
      "    Sort the list in ascending order and return None.\n",
      "    \n",
      "    The sort is in-place (i.e. the list itself is modified) and stable (i.e. the\n",
      "    order of two equal elements is maintained).\n",
      "    \n",
      "    If a key function is given, apply it once to each list item and sort them,\n",
      "    ascending or descending, according to their function values.\n",
      "    \n",
      "    The reverse flag can be set to sort in descending order.\n",
      "\n"
     ]
    }
   ],
   "source": [
    "help(lista.sort)"
   ]
  },
  {
   "cell_type": "code",
   "execution_count": 12,
   "metadata": {},
   "outputs": [
    {
     "name": "stdout",
     "output_type": "stream",
     "text": [
      "['datos', 'dado', 'driver']\n"
     ]
    }
   ],
   "source": [
    "# Filtrar las palabras que empiezan con d utilizando expresiones lambda y la función filter\n",
    "seq = ['datos','internet','dado','protocolo', 'driver']\n",
    "listaFiltrada = list(filter(lambda k: 'd' in k ,seq))\n",
    "print(listaFiltrada)"
   ]
  },
  {
   "cell_type": "code",
   "execution_count": 13,
   "metadata": {},
   "outputs": [
    {
     "data": {
      "text/plain": [
       "['DATOS', 'INTERNET', 'DADO', 'PROTOCOLO', 'DRIVER']"
      ]
     },
     "execution_count": 13,
     "metadata": {},
     "output_type": "execute_result"
    }
   ],
   "source": [
    "# Usar expresiones lambda y la función map para convertir una lista de palabras a mayúsculas\n",
    "seq = ['datos','internet','dado','protocolo', 'driver']\n",
    "list(map(lambda x:x.upper(),seq))"
   ]
  },
  {
   "cell_type": "code",
   "execution_count": 20,
   "metadata": {},
   "outputs": [
    {
     "name": "stdout",
     "output_type": "stream",
     "text": [
      "[('Estacionamiento', -1), ('Tiendas', 0), ('Patio de comidas', 1), ('Oficinas', 2)]\n"
     ]
    }
   ],
   "source": [
    "# La función zip (lista1, lista2) devuelve una lista de tuplas, donde la tupla i-ésima contiene el elemento i-ésimo de cada \n",
    "# una de las listas de argumentos\n",
    "pisos = ['Estacionamiento', 'Tiendas', 'Patio de comidas', 'Oficinas']\n",
    "pisos_numeros = range(-1,3)\n",
    "lista = list(zip(pisos,pisos_numeros)) \n",
    "print(lista)"
   ]
  },
  {
   "cell_type": "code",
   "execution_count": 22,
   "metadata": {},
   "outputs": [
    {
     "name": "stdout",
     "output_type": "stream",
     "text": [
      "{-1: 'Estacionamiento', 0: 'Tiendas', 1: 'Patio de comidas', 2: 'Oficinas'}\n",
      "Estacionamiento\n"
     ]
    }
   ],
   "source": [
    "# Usar la función zip para crear un diccionario. La clave es el número de piso y el valor es el tipo de piso\n",
    "pisos = ['Estacionamiento', 'Tiendas', 'Patio de comidas', 'Oficinas']\n",
    "pisos_numeros = range(-1,3)\n",
    "diccionario = dict(zip(pisos_numeros,pisos)) \n",
    "print(diccionario)\n",
    "print(diccionario[-1])"
   ]
  },
  {
   "cell_type": "markdown",
   "metadata": {},
   "source": [
    "<div id=\"estructurasControl\" style=\"color:#37475a; border-bottom: 7px solid orange; width: 100%; margin-bottom: 15px; padding-bottom: 2px\"><h2>Estructuras de control</h2> </div>"
   ]
  },
  {
   "cell_type": "code",
   "execution_count": null,
   "metadata": {},
   "outputs": [],
   "source": [
    "# Estructura condicional if\n",
    "cadena=\"hola\"\n",
    "a=18.24\n",
    "c=a**2\n",
    "print(c)\n",
    "type(cadena)\n",
    "\n",
    "if a<6:\n",
    "    print(\"es menor a 6\")\n",
    "elif a<10:\n",
    "    print(\"es menor a 10\")\n",
    "else:\n",
    "    print(\"es mayor\")"
   ]
  },
  {
   "cell_type": "code",
   "execution_count": 11,
   "metadata": {},
   "outputs": [
    {
     "name": "stdout",
     "output_type": "stream",
     "text": [
      "1\n",
      "3\n",
      "5\n",
      "7\n",
      "9\n",
      "11\n"
     ]
    }
   ],
   "source": [
    "# Estructura iterativa for\n",
    "for i in range(1,12,2):\n",
    "    print(i)"
   ]
  },
  {
   "cell_type": "code",
   "execution_count": null,
   "metadata": {},
   "outputs": [],
   "source": [
    "# Estructura iterativa while\n",
    "lim=10 \n",
    "i=0\n",
    "while i<=lim:\n",
    "    print(i)\n",
    "    i=i+1"
   ]
  },
  {
   "cell_type": "markdown",
   "metadata": {},
   "source": [
    "<div id=\"conclusiones\" style=\"color:#37475a; border-bottom: 7px solid orange; width: 100%; margin-bottom: 15px; padding-bottom: 2px\"><h2>Conclusiones</h2> </div>"
   ]
  },
  {
   "cell_type": "markdown",
   "metadata": {},
   "source": [
    "En este documento has aprendido los fundamentos de python para que puedas iniciar tus proyectos con este lenguaje tan interesante y sencillo de aprender. La idea es que rápidamente puedas dar solución a problemas y que no te estanques en una curva larga de aprendizaje sobre el lenguaje."
   ]
  },
  {
   "cell_type": "markdown",
   "metadata": {},
   "source": [
    "<div id=\"Referencias-enlaces\" style=\"color:#37475a; border-bottom: 7px solid orange; width: 100%; margin-bottom: 15px; padding-bottom: 2px\"><h2>Referencias y enlaces</h2> </div>"
   ]
  },
  {
   "cell_type": "markdown",
   "metadata": {},
   "source": [
    "[1] Lee, K. D. (2011). Python programming fundamentals. London: Springer.\n",
    "\n",
    "[2] Thanaki, J. (2017). Python natural language processing. Packt Publishing Ltd.\n",
    "\n",
    "**Enlaces de documentación de expresiones en Python:**\n",
    "\n",
    "https://docs.python.org/2/reference/expressions.html#in"
   ]
  }
 ],
 "metadata": {
  "kernelspec": {
   "display_name": "Python 3 (ipykernel)",
   "language": "python",
   "name": "python3"
  },
  "language_info": {
   "codemirror_mode": {
    "name": "ipython",
    "version": 3
   },
   "file_extension": ".py",
   "mimetype": "text/x-python",
   "name": "python",
   "nbconvert_exporter": "python",
   "pygments_lexer": "ipython3",
   "version": "3.8.13"
  }
 },
 "nbformat": 4,
 "nbformat_minor": 2
}
